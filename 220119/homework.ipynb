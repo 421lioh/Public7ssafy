{
 "cells": [
  {
   "cell_type": "markdown",
   "metadata": {},
   "source": [
    "## 1. Built-in 함수\n",
    "\n",
    "input() set() str() sum() max() 등등"
   ]
  },
  {
   "cell_type": "code",
   "execution_count": null,
   "metadata": {},
   "outputs": [],
   "source": [
    "dir(__builtins__)\n",
    "#을 통해 종류 확인가능"
   ]
  },
  {
   "cell_type": "markdown",
   "metadata": {},
   "source": [
    "## 2. 정중앙 문자"
   ]
  },
  {
   "cell_type": "code",
   "execution_count": 15,
   "metadata": {},
   "outputs": [
    {
     "name": "stdout",
     "output_type": "stream",
     "text": [
      "we\n"
     ]
    }
   ],
   "source": [
    "s = str(input())\n",
    "def get_middle_char(s):\n",
    "\n",
    "    return s[(len(s)-1)//2:len(s)//2+1]\n",
    "\n",
    "print(get_middle_char(s))\n"
   ]
  },
  {
   "cell_type": "markdown",
   "metadata": {},
   "source": [
    "## 3. 위치인자와 키워드 인자"
   ]
  },
  {
   "cell_type": "code",
   "execution_count": 20,
   "metadata": {},
   "outputs": [
    {
     "name": "stdout",
     "output_type": "stream",
     "text": [
      "허준의 지역은 서울입니다.\n",
      "철수의 지역은 대전입니다.\n",
      "영희의 지역은 광주입니다.\n"
     ]
    }
   ],
   "source": [
    "def ssafy(name, location='서울'):\n",
    "    print(f'{name}의 지역은 {location}입니다.')\n",
    "\n",
    "ssafy('허준')\n",
    "ssafy(location='대전', name='철수')\n",
    "ssafy('영희', location='광주')\n",
    "# 오류 없음\n",
    "ssafy(name='길동', '구미')\n",
    "# 오류 발생"
   ]
  },
  {
   "cell_type": "markdown",
   "metadata": {},
   "source": [
    "## 4. 나의 반환값은"
   ]
  },
  {
   "cell_type": "code",
   "execution_count": 21,
   "metadata": {},
   "outputs": [
    {
     "name": "stdout",
     "output_type": "stream",
     "text": [
      "10\n"
     ]
    }
   ],
   "source": [
    "def my_func(a, b):\n",
    "    c = a + b\n",
    "    print(c)\n",
    "\n",
    "result = my_func(3, 7)"
   ]
  },
  {
   "cell_type": "markdown",
   "metadata": {},
   "source": [
    "## 5. 가변 인자 리스트"
   ]
  },
  {
   "cell_type": "code",
   "execution_count": 27,
   "metadata": {},
   "outputs": [
    {
     "name": "stdout",
     "output_type": "stream",
     "text": [
      "81.0\n"
     ]
    }
   ],
   "source": [
    "def my_avg(*nums):\n",
    "    sum = 0\n",
    "    for n in nums:\n",
    "        sum += n\n",
    "    my_avg = sum/len(nums)\n",
    "    print(my_avg)\n",
    "\n",
    "my_avg(77, 83, 95, 80, 70)"
   ]
  },
  {
   "cell_type": "markdown",
   "metadata": {},
   "source": [
    "## 6.  이름공간"
   ]
  },
  {
   "cell_type": "code",
   "execution_count": null,
   "metadata": {},
   "outputs": [],
   "source": [
    "지역 네임스페이스 < 전역 네임스페이스 < 빌트인 네임스페이스"
   ]
  },
  {
   "cell_type": "markdown",
   "metadata": {},
   "source": [
    "## 7. 매개변수와 인자, 반환"
   ]
  },
  {
   "cell_type": "code",
   "execution_count": null,
   "metadata": {},
   "outputs": [],
   "source": [
    "(1) 함수는 오직 하나의 객체만 반환할 수 있으므로 'return a, b'와\n",
    "같이 쓸 수 없다.\n",
    "(2) 함수에서 return을 작성하지 않으면 None 값을 반환한다.\n",
    "(3) 함수의 매개변수(parameter)는 함수를 선언할 때 설정한 값이며,\n",
    "전달 인자(argument)는 함수를 호출할 때 넘겨주는 값이다.\n",
    "(4) 가변 인자를 설정할 때는 함수 선언 시 매개변수 앞에 * 을 붙이고, \n",
    "이 때는 함수내에서 tuple로 처리 된다.\n",
    "\n",
    "(1)"
   ]
  },
  {
   "cell_type": "markdown",
   "metadata": {},
   "source": [
    "## 8. 재귀함수"
   ]
  },
  {
   "cell_type": "code",
   "execution_count": null,
   "metadata": {},
   "outputs": [],
   "source": [
    "재귀함수는 변수를 여러 개 만들 필요 없이 코드가 간결해진다. 그러나 많은 메모리 사용과 함께 속도가 느리다. \n",
    "반복문은 속도가 빠르지만 변수를 여러 개 설정해야하며 코드가 길다."
   ]
  }
 ],
 "metadata": {
  "interpreter": {
   "hash": "098e4179bb19075bee29837d1100ec88107a47eacbb8f01424e7b8daefeeaa77"
  },
  "kernelspec": {
   "display_name": "Python 3.10.1 64-bit",
   "language": "python",
   "name": "python3"
  },
  "language_info": {
   "codemirror_mode": {
    "name": "ipython",
    "version": 3
   },
   "file_extension": ".py",
   "mimetype": "text/x-python",
   "name": "python",
   "nbconvert_exporter": "python",
   "pygments_lexer": "ipython3",
   "version": "3.10.1"
  },
  "orig_nbformat": 4
 },
 "nbformat": 4,
 "nbformat_minor": 2
}
